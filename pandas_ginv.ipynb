{
 "cells": [
  {
   "cell_type": "markdown",
   "metadata": {},
   "source": [
    "## Guilty Inventory Report\n",
    "\n",
    "1.  Put csv data files as below.  Each csv files must have datetime format for the dates.\n",
    "\n",
    "```\n",
    "inventory/\n",
    " ├─ pandas_ginv.ipynb\n",
    " ├─ csv_data/         -- aging.csv, business_unit.csv, rate.csv\n",
    " │   ├─inv_data       -- invoice csv files\n",
    " │   ├─purchase_data  -- purchase csv files\n",
    " │   └─sales_data     -- sales csv files\n",
    " └─ reports\n",
    " \n",
    "```\n",
    "2.  From Jupyter, run the whole notebook.\n",
    " \n",
    "3.  Reports are saved in reports folder.\n",
    " "
   ]
  },
  {
   "cell_type": "code",
   "execution_count": 19,
   "metadata": {},
   "outputs": [],
   "source": [
    "from datetime import date, timedelta\n",
    "import glob\n",
    "import logging\n",
    "import os\n",
    "\n",
    "import pandas as pd\n",
    "from dateutil.relativedelta import relativedelta\n",
    "\n",
    "logging.basicConfig(level=logging.DEBUG, format=\" %(asctime)s -  %(levelname)s -  %(message)s\")\n",
    "# logging.disable(logging.CRITICAL)\n"
   ]
  },
  {
   "cell_type": "code",
   "execution_count": 2,
   "metadata": {},
   "outputs": [
    {
     "name": "stderr",
     "output_type": "stream",
     "text": [
      " 2020-09-28 20:59:53,051 -  DEBUG -  read_inv : return: \n",
      "          month               model  cat  age  qty       amt\n",
      "0    2019-09-01             AL100DR  213   30   50  38844.50\n",
      "1    2019-09-01             AL100DR  213   90   50  36868.50\n",
      "2    2019-09-01             AL100DR  213  180   24  17731.92\n",
      "3    2019-09-01             AL100RD  213   30   10  76563.30\n",
      "4    2019-09-01           AL100RD/U  213  180   35   3192.70\n",
      "...         ...                 ...  ...  ...  ...       ...\n",
      "8192 2020-08-01      SOLVARILL001/4  195  999    4      0.04\n",
      "8193 2020-08-01      SOLVARILL15MTS  195  360    1      0.01\n",
      "8194 2020-08-01  SOLVARILLA5/16-1MO  195   90    7    339.15\n",
      "8195 2020-08-01    SORIELBONDJUMPER  195   60    2    561.36\n",
      "8196 2020-08-01    SORIELBONDJUMPER  195   90    3    831.52\n",
      "\n",
      "[8099 rows x 6 columns]\n"
     ]
    }
   ],
   "source": [
    "def read_inv():\n",
    "    # Inventory aging preparation from csv data file.\n",
    "    # Copy the original excel sheet to a new sheet & paste value and save as csv.\n",
    "    # Add columun \"inv_month\" with date format like 2019/9/1. (day must be 1st day)\n",
    "\n",
    "    list = []\n",
    "    \n",
    "    for files in glob.glob('csv_data/inv_data/*.csv'):\n",
    "        useCols = [\"CatNo\", \"Material\", \"Fecha\", \"Suma de Total Qty\", \"Suma de Total $\", \"inv_month\"]\n",
    "        csv = pd.read_csv(files, usecols=useCols, parse_dates=[5])  \n",
    "        list.append(csv)\n",
    "        \n",
    "    df = pd.concat(list)   \n",
    "    df = df.rename(\n",
    "        columns={\n",
    "            \"CatNo\": \"cat\",\n",
    "            \"Material\": \"model\",\n",
    "            \"Fecha\": \"age\",\n",
    "            \"Suma de Total Qty\": \"qty\",\n",
    "            \"Suma de Total $\": \"amt\",\n",
    "            \"inv_month\": \"month\"\n",
    "        }\n",
    "    )\n",
    "\n",
    "    df = df.reindex(columns=['month', 'model', 'cat', 'qty', 'amt', 'age'])\n",
    "\n",
    "    # Replace the aging date by integer\n",
    "    agedict = {'30D': 30, '60D': 60, '90D': 90, '180D': 180, '270D': 270, '360D': 360, 'MAS': 999}\n",
    "    df = df.replace(agedict)\n",
    "\n",
    "    # Make sure the month to have 1st date of the month.\n",
    "    df[\"month\"] = df[\"month\"].apply(lambda x: x.replace(day=1))\n",
    "\n",
    "    # Grouping by month and model.\n",
    "    grouped = df.groupby([\"month\", \"model\", \"cat\", \"age\"], as_index=False)\n",
    "    df = grouped.sum()\n",
    "    df = df[df['qty'] > 0]\n",
    "\n",
    "    return df\n",
    "\n",
    "\n",
    "logging.debug('read_inv : return: \\n' + str(read_inv()))"
   ]
  },
  {
   "cell_type": "code",
   "execution_count": 3,
   "metadata": {},
   "outputs": [
    {
     "name": "stderr",
     "output_type": "stream",
     "text": [
      " 2020-09-28 20:59:53,274 -  DEBUG -  read_sales: return: \n",
      "          month       model     qty            amt\n",
      "0    2019-08-01     AL100DR    91.0  109736.840000\n",
      "1    2019-08-01   AL100RD/U   740.0   93223.310000\n",
      "2    2019-08-01   AL100RT/U   170.0   26158.920000\n",
      "3    2019-08-01    AL100TDN    53.0   61179.740000\n",
      "4    2019-08-01  AL204RTC/U  1200.0  261264.580000\n",
      "...         ...         ...     ...            ...\n",
      "2374 2020-08-01     NUAF370   311.0  888944.332500\n",
      "2375 2020-08-01    NUJB395L    51.0  168375.854865\n",
      "2376 2020-08-01     PNC751H     1.0   61600.000000\n",
      "2378 2020-08-01      R21LTF    71.0  481735.650000\n",
      "2379 2020-08-01      R22GTF     1.0   12730.000000\n",
      "\n",
      "[2369 rows x 4 columns]\n"
     ]
    }
   ],
   "source": [
    "def read_sales():\n",
    "    # Sales record preparation from csv and add to sqlite3 t_sales table\n",
    "    # Copy the original sheet to a new sheet & paste value and save as csv.\n",
    "    # Billing doc. date must be formatted to date (ex: 2020/8/2)\n",
    "    # Sort by Billing doc. is ideal.\n",
    "\n",
    "    list = []\n",
    "\n",
    "    for targetFile in glob.glob(\"csv_data/sales_data/*.csv\"):\n",
    "        useCols = [\"Billing doc. date\", \"Material\", \"Net Qty\", \"Net $\"]\n",
    "        csv = pd.read_csv(targetFile, usecols=useCols, parse_dates=[0])\n",
    "        list.append(csv)\n",
    "\n",
    "    df = pd.concat(list)\n",
    "    df = df.rename(\n",
    "        columns={\n",
    "            \"Billing doc. date\": \"month\",\n",
    "            \"Material\": \"model\",\n",
    "            \"Net Qty\": \"qty\",\n",
    "            \"Net $\": \"amt\",\n",
    "        }\n",
    "    )\n",
    "\n",
    "    # Modify the sales month to have 1st date of the month\n",
    "    df[\"month\"] = df[\"month\"].apply(lambda x: x.replace(day=1))\n",
    "    grouped = df.groupby([\"month\", \"model\"], as_index=False)\n",
    "    df = grouped.sum()\n",
    "    df = df[df[\"qty\"] > 0]\n",
    "    return df\n",
    "\n",
    "\n",
    "logging.debug(\"read_sales: return: \\n\" + str(read_sales()))"
   ]
  },
  {
   "cell_type": "code",
   "execution_count": 4,
   "metadata": {},
   "outputs": [
    {
     "name": "stderr",
     "output_type": "stream",
     "text": [
      " 2020-09-28 20:59:53,306 -  DEBUG -  read_purchase: return: \n",
      "          month     model  qty        amt\n",
      "0    2019-08-01   AL100DR   50   37313.26\n",
      "1    2019-08-01  AL100TDN   10    7374.75\n",
      "2    2019-08-01   AL204TD  270  164136.56\n",
      "3    2019-08-01   AR016RT   10   75774.58\n",
      "4    2019-08-01   AR152DR  220   52016.99\n",
      "...         ...       ...  ...        ...\n",
      "1712 2020-08-01   MXM6570   10  896823.06\n",
      "1713 2020-08-01   MXM7570    5  471964.79\n",
      "1714 2020-08-01    MXRB24    6   16698.45\n",
      "1715 2020-08-01    MXRB26    9   27578.21\n",
      "1716 2020-08-01    MXTU16  514  420601.33\n",
      "\n",
      "[1717 rows x 4 columns]\n"
     ]
    }
   ],
   "source": [
    "def read_purchase():\n",
    "    # Purchase preparation from csv and add to sqlite3 t_purchase table\n",
    "    # Copy the original sheet to a new sheet & paste value and save as csv.\n",
    "\n",
    "    list = []\n",
    "    \n",
    "    for files in glob.glob('csv_data/purchase_data/*.csv'):\n",
    "        useCols = [\"Material\", \"Posting date\", \"Net Qty\", \"Net - $\"]\n",
    "        csv = pd.read_csv(files, header=0, usecols=useCols, parse_dates=[1])\n",
    "        list.append(csv)\n",
    "\n",
    "    df = pd.concat(list)\n",
    "    df = df.rename(\n",
    "        columns={\n",
    "            \"Material\": \"model\",\n",
    "            \"Net Qty\": \"qty\",\n",
    "            \"Net - $\": \"amt\",\n",
    "            \"Posting date\": \"month\"\n",
    "        }\n",
    "    )\n",
    "\n",
    "\n",
    "    df = df.reindex(columns=['month', 'model', 'qty', 'amt'])\n",
    "\n",
    "    # Modify the month to have 1st date of the month\n",
    "    df[\"month\"] = df[\"month\"].apply(lambda x: x.replace(day=1))\n",
    "\n",
    "   # Grouping by in_month and inv_model\n",
    "    grouped = df.groupby([\"month\", \"model\"], as_index=False)\n",
    "    df = grouped.sum()\n",
    "    df = df[df['qty'] > 0]\n",
    "    return df\n",
    "\n",
    "\n",
    "logging.debug('read_purchase: return: \\n' + str(read_purchase()))"
   ]
  },
  {
   "cell_type": "code",
   "execution_count": 5,
   "metadata": {},
   "outputs": [
    {
     "name": "stderr",
     "output_type": "stream",
     "text": [
      " 2020-09-28 20:59:53,315 -  DEBUG -  read_bu: return: \n",
      "    cat    bu        bu_name\n",
      "0   135  B1-1            MWO\n",
      "1   187  B1-2            PCI\n",
      "2   195    C1            SOL\n",
      "3   196    C1            SOL\n",
      "4   200    D2            IDP\n",
      "5   202    D2  IDP B2B AQUOS\n",
      "6   211  B1-4            CAL\n",
      "7   213    D1         AL SPL\n",
      "8   243    D1       PPC D HW\n",
      "9   244    D1      PPC D SPL\n",
      "10  117    G1         LCD TV\n",
      "11  203    G1        LCD B2B\n"
     ]
    }
   ],
   "source": [
    "def read_bu():\n",
    "    # business_unit preparation from csv and add to sqlite3 t_business_unit table\n",
    "\n",
    "    df = pd.read_csv('csv_data/business_unit.csv')\n",
    "    df = df.rename(\n",
    "        columns={\n",
    "            \"prod_category\": \"cat\",\n",
    "            \"business_unit\": \"bu\",\n",
    "            \"bu_description\": \"bu_name\",\n",
    "        }\n",
    "    )\n",
    "\n",
    "    return df\n",
    "\n",
    "logging.debug('read_bu: return: \\n' + str(read_bu()))"
   ]
  },
  {
   "cell_type": "code",
   "execution_count": 6,
   "metadata": {},
   "outputs": [
    {
     "name": "stderr",
     "output_type": "stream",
     "text": [
      " 2020-09-28 20:59:53,326 -  DEBUG -  read_rate: return: \n",
      "         month  rate_yen\n",
      "0   2019-08-01      5.07\n",
      "1   2019-09-01      5.07\n",
      "2   2019-10-01      5.07\n",
      "3   2019-11-01      5.07\n",
      "4   2019-12-01      5.07\n",
      "..         ...       ...\n",
      "135 2030-11-01      4.36\n",
      "136 2030-12-01      4.36\n",
      "137 2031-01-01      4.36\n",
      "138 2031-02-01      4.36\n",
      "139 2031-03-01      4.36\n",
      "\n",
      "[140 rows x 2 columns]\n"
     ]
    }
   ],
   "source": [
    "def read_rate():\n",
    "    # Rate table preparation from csv and add to sqlite3 t_rate table\n",
    "\n",
    "    df = pd.read_csv(\"csv_data/rate.csv\", parse_dates=[0])\n",
    "    df = df.rename(columns={\"rate_month\": \"month\"})\n",
    "        \n",
    "    # Modify the inv_month to have 1st date of the month, just in case.\n",
    "    df[\"month\"] = df[\"month\"].apply(lambda x: x.replace(day=1))\n",
    "\n",
    "    return df\n",
    "\n",
    "\n",
    "logging.debug('read_rate: return: \\n' + str(read_rate()))"
   ]
  },
  {
   "cell_type": "code",
   "execution_count": 7,
   "metadata": {},
   "outputs": [
    {
     "name": "stderr",
     "output_type": "stream",
     "text": [
      " 2020-09-28 20:59:53,337 -  DEBUG -  read_aging: return: \n",
      "    age  month_diff  new_age\n",
      "0    30           0       30\n",
      "1    30           1       30\n",
      "2    30           2       30\n",
      "3    30           3       30\n",
      "4    30           4       30\n",
      "..  ...         ...      ...\n",
      "86  999           8      270\n",
      "87  999           9      270\n",
      "88  999          10      360\n",
      "89  999          11      360\n",
      "90  999          12      360\n",
      "\n",
      "[91 rows x 3 columns]\n"
     ]
    }
   ],
   "source": [
    "def read_aging():\n",
    "    # Rate table preparation from csv and add to sqlite3 t_aging table\n",
    "\n",
    "    df = pd.read_csv(\"csv_data/aging.csv\", index_col=0)\n",
    "    df = df.rename(\n",
    "        columns={\n",
    "            \"age_n0\": 0,\n",
    "            \"age_n1\": 1,\n",
    "            \"age_n2\": 2,\n",
    "            \"age_n3\": 3,\n",
    "            \"age_n4\": 4,\n",
    "            \"age_n5\": 5,\n",
    "            \"age_n6\": 6,\n",
    "            \"age_n7\": 7,\n",
    "            \"age_n8\": 8,\n",
    "            \"age_n9\": 9,\n",
    "            \"age_n10\": 10,\n",
    "            \"age_n11\": 11,\n",
    "            \"age_n12\": 12,\n",
    "            \"age_n13\": 13,\n",
    "\n",
    "        }\n",
    "    )\n",
    "\n",
    "    df = df.stack()\n",
    "    df = df.reset_index()\n",
    "    df = df.rename(columns={\"age_actual\": \"age\", \"level_1\": \"month_diff\", 0: \"new_age\"})\n",
    "\n",
    "    return df\n",
    "\n",
    "\n",
    "logging.debug(\"read_aging: return: \\n\" + str(read_aging()))"
   ]
  },
  {
   "cell_type": "code",
   "execution_count": 8,
   "metadata": {},
   "outputs": [
    {
     "name": "stderr",
     "output_type": "stream",
     "text": [
      " 2020-09-28 20:59:53,610 -  DEBUG -  return : \n",
      "          month               model\n",
      "2210 2020-08-01          2TC32CF2UR\n",
      "2211 2020-08-01          2TC45CF2UR\n",
      "2212 2020-08-01           4TB60CJ1U\n",
      "2213 2020-08-01           4TB70CJ1U\n",
      "2214 2020-08-01          4TC60BK2UD\n",
      "...         ...                 ...\n",
      "119  2019-08-01     SOLTUERCAFL5/16\n",
      "120  2019-08-01  SOLTUERCAHEX5/16OX\n",
      "121  2019-08-01      SOLVARILL15MTS\n",
      "122  2019-08-01          WC-COA-MPE\n",
      "210  2019-08-01          WC-COA-PRO\n",
      "\n",
      "[2980 rows x 2 columns]\n"
     ]
    }
   ],
   "source": [
    "def latest_ps():\n",
    "    \n",
    "    df1 = read_sales()\n",
    "    df1 = df1[['month', 'model']]\n",
    "    df2 = read_purchase()\n",
    "    df2 = df2[['month', 'model']]\n",
    "    df = df1.append(df2)\n",
    "    \n",
    "    # Make a dataframe which has the latest p or s movement by month and model.\n",
    "    df = df.drop_duplicates()\n",
    "    df = df.sort_values(['month', 'model'], ascending=[False, True])\n",
    "    \n",
    "    return df\n",
    "\n",
    "\n",
    "logging.debug('return : \\n' + str(latest_ps()))  "
   ]
  },
  {
   "cell_type": "code",
   "execution_count": 9,
   "metadata": {},
   "outputs": [
    {
     "name": "stderr",
     "output_type": "stream",
     "text": [
      " 2020-09-28 20:59:54,587 -  DEBUG -  return : \n",
      "          month               model  age   month_ps  month_diff  new_age\n",
      "0    2019-09-01             AL100DR   30 2019-09-01         0.0     30.0\n",
      "1    2019-09-01             AL100DR   90 2019-09-01         0.0     30.0\n",
      "2    2019-09-01             AL100DR  180 2019-09-01         0.0     30.0\n",
      "3    2019-09-01             AL100RD   30 2019-09-01         0.0     30.0\n",
      "4    2019-09-01           AL100RD/U  180 2019-09-01         0.0     30.0\n",
      "...         ...                 ...  ...        ...         ...      ...\n",
      "8094 2020-08-01      SOLVARILL001/4  999 2020-06-01         2.0     60.0\n",
      "8095 2020-08-01      SOLVARILL15MTS  360 2020-06-01         2.0     60.0\n",
      "8096 2020-08-01  SOLVARILLA5/16-1MO   90 2020-06-01         2.0     60.0\n",
      "8097 2020-08-01    SORIELBONDJUMPER   60 2020-07-01         1.0     30.0\n",
      "8098 2020-08-01    SORIELBONDJUMPER   90 2020-07-01         1.0     30.0\n",
      "\n",
      "[8099 rows x 6 columns]\n"
     ]
    },
    {
     "name": "stdout",
     "output_type": "stream",
     "text": [
      "new_age(): Successfully finished without error\n"
     ]
    }
   ],
   "source": [
    "def new_age():\n",
    "\n",
    "    try:\n",
    "        df1 = read_inv()\n",
    "        df1 = df1.drop([\"cat\", \"qty\", \"amt\"], axis=1)\n",
    "        df2 = latest_ps()\n",
    "        df = pd.merge(df1, df2, on=\"model\", how=\"left\", suffixes=[\"_inv\", \"_ps\"])\n",
    "        df = df.loc[df[\"month_inv\"] >= df[\"month_ps\"]]\n",
    "\n",
    "        # Make a dataframe which has the latest p or s movement by model.\n",
    "        grouped = df.groupby([\"month_inv\", \"model\", \"age\"])\n",
    "        df = df.loc[grouped[\"month_ps\"].idxmax(), :]\n",
    "\n",
    "        # Add month_diff column\n",
    "        df[\"month_diff\"] = (df[\"month_inv\"].dt.year - df[\"month_ps\"].dt.year) * 12 + (\n",
    "            df[\"month_inv\"].dt.month - df[\"month_ps\"].dt.month\n",
    "        )\n",
    "\n",
    "        # Make inv list recovering the dropped item with month diff = 13.\n",
    "        df = df.rename(columns={\"month_inv\": \"month\"})\n",
    "        df = pd.merge(df1, df, on=[\"month\", \"model\", \"age\"], how=\"left\")\n",
    "        df = df.fillna({\"month_diff\": 13})\n",
    "\n",
    "        # Convert month_diff to new_age\n",
    "        df3 = read_aging()\n",
    "        df = pd.merge(df, df3, on=[\"age\", \"month_diff\"], how=\"left\")\n",
    "\n",
    "    except Exception as e:\n",
    "        print(e)\n",
    "\n",
    "    else:\n",
    "        print(\"new_age(): Successfully finished without error\")\n",
    "        df.to_csv('newagetbl.csv')\n",
    "        df3.to_csv('ag.csv')\n",
    "        return df\n",
    "\n",
    "\n",
    "logging.debug(\"return : \\n\" + str(new_age()))"
   ]
  },
  {
   "cell_type": "code",
   "execution_count": 10,
   "metadata": {},
   "outputs": [
    {
     "name": "stderr",
     "output_type": "stream",
     "text": [
      " 2020-09-28 20:59:54,694 -  DEBUG -  return : \n",
      "None\n"
     ]
    },
    {
     "name": "stdout",
     "output_type": "stream",
     "text": [
      "[Errno 2] No such file or directory: 'reports/bs_actual.csv'\n"
     ]
    }
   ],
   "source": [
    "def bs_report_act_age(start, end):\n",
    "    \n",
    "    try: \n",
    "        df1 = read_inv()\n",
    "        df1 = df1.query('@start <= month <= @end')\n",
    "        df2 = read_bu()\n",
    "        df = pd.merge(df1, df2, on='cat', how='left')\n",
    "        df = df.drop([\"cat\", \"bu_name\"], axis=1)\n",
    "        df = df.query('bu in [\"D1\", \"D2\"]')\n",
    "        df = df.reindex(columns=['month', 'bu', 'model', 'age', 'qty', 'amt'])\n",
    "        df.to_csv('reports/bs_actual.csv', index=False)\n",
    "\n",
    "    except Exception as e:\n",
    "        print(e)\n",
    "\n",
    "    else:\n",
    "        print(\"bs_report_act_age: Successfully finished without error\")\n",
    "\n",
    "logging.debug(\"return : \\n\" + str(bs_report_act_age('2020/3', '2020/8')))"
   ]
  },
  {
   "cell_type": "code",
   "execution_count": 11,
   "metadata": {},
   "outputs": [
    {
     "name": "stderr",
     "output_type": "stream",
     "text": [
      " 2020-09-28 20:59:55,886 -  DEBUG -  return : \n",
      "None\n"
     ]
    },
    {
     "name": "stdout",
     "output_type": "stream",
     "text": [
      "new_age(): Successfully finished without error\n",
      "[Errno 2] No such file or directory: 'reports/bs_new_age.csv'\n"
     ]
    }
   ],
   "source": [
    "def bs_report_new_age(start, end):\n",
    "    \n",
    "    try: \n",
    "        df1 = read_inv()\n",
    "        df1.to_csv('inv.csv')\n",
    "        df2 = new_age()\n",
    "        df1 = pd.merge(df1, df2, on=['month', 'model', 'age'], how='left')\n",
    "        df1 = df1.drop([\"age\", \"month_ps\", \"month_diff\"], axis=1)\n",
    "        df1 = df1.query('@start <= month <= @end')\n",
    "        df2 = read_bu()\n",
    "        df = pd.merge(df1, df2, on='cat', how='left')\n",
    "        df = df.drop([\"cat\", \"bu_name\"], axis=1)\n",
    "        df = df.query('bu in [\"D1\", \"D2\"]')\n",
    "        df = df.reindex(columns=['month', 'bu', 'model', 'new_age', 'qty', 'amt'])\n",
    "        \n",
    "        # Grouping by month and model.\n",
    "        grouped = df.groupby([\"month\", \"bu\", \"model\", \"new_age\"], as_index=False)\n",
    "        df = grouped.sum()\n",
    "        \n",
    "        df.to_csv('reports/bs_new_age.csv', index=False)\n",
    "        return(df)\n",
    "\n",
    "    except Exception as e:\n",
    "        print(e)\n",
    "\n",
    "    else:\n",
    "        print(\"bs_report_new_age: Successfully finished without error\")\n",
    "\n",
    "logging.debug(\"return : \\n\" + str(bs_report_new_age('2020/3', '2020/8')))"
   ]
  },
  {
   "cell_type": "code",
   "execution_count": 12,
   "metadata": {},
   "outputs": [
    {
     "name": "stderr",
     "output_type": "stream",
     "text": [
      " 2020-09-28 20:59:56,031 -  DEBUG -  return : \n",
      "          month               model digest_model\n",
      "0    2019-09-01             AL100DR       Others\n",
      "1    2019-09-01           AL100RD/U       Others\n",
      "2    2019-09-01           AL100RT/U       Others\n",
      "3    2019-09-01            AL100TDN       Others\n",
      "4    2019-09-01          AL204RTC/U       Others\n",
      "...         ...                 ...          ...\n",
      "4097 2020-08-01     SOLTUERCAN10-24       Others\n",
      "4098 2020-08-01  SOLTUERHEXBELL5/16       Others\n",
      "4099 2020-08-01   SOLTUERHEXSEG5/16       Others\n",
      "4100 2020-08-01      SOLVARILL001/4       Others\n",
      "4101 2020-08-01      SOLVARILL15MTS       Others\n",
      "\n",
      "[4102 rows x 3 columns]\n"
     ]
    }
   ],
   "source": [
    "def digest_act_age():\n",
    "    df_inv = read_inv()\n",
    "    df_rate = read_rate()\n",
    "    df = pd.merge(df_inv, df_rate, on='month', how='left')\n",
    "    df = df[df['age'] > 90]\n",
    "    df['yen'] = df['amt'] * df['rate_yen']\n",
    "    df = df.drop([\"cat\", \"qty\", \"amt\", \"age\", \"rate_yen\"], axis=1)\n",
    "    grouped = df.groupby([\"month\", \"model\"], as_index=False)\n",
    "    df = grouped.sum()\n",
    "\n",
    "    df['digest_model'] = df['model']\n",
    "    df.loc[df['yen'] < 1000000, 'digest_model'] = 'Others'\n",
    "    df = df.drop([\"yen\"], axis=1)\n",
    "    df.to_csv('digest.csv')\n",
    "    return df\n",
    "    \n",
    "logging.debug(\"return : \\n\" + str(digest_act_age()))"
   ]
  },
  {
   "cell_type": "code",
   "execution_count": 37,
   "metadata": {},
   "outputs": [
    {
     "name": "stderr",
     "output_type": "stream",
     "text": [
      " 2020-09-29 00:33:21,785 -  DEBUG -  return : \n",
      "None\n"
     ]
    },
    {
     "name": "stdout",
     "output_type": "stream",
     "text": [
      "         month    bu digest_model   qty        amt        n-1\n",
      "0   2019-09-01  B1-1       R22GTF    76  598395.30 2019-08-01\n",
      "1   2019-09-01  B1-2       Others    37   48430.84 2019-08-01\n",
      "2   2019-09-01  B1-4       Others  6387    6387.00 2019-08-01\n",
      "3   2019-09-01    C1       Others  2004  187633.45 2019-08-01\n",
      "4   2019-09-01    D1      MX7580N     2  313828.67 2019-08-01\n",
      "..         ...   ...          ...   ...        ...        ...\n",
      "390 2020-08-01    D2      PNC605B    22  631563.92 2020-07-01\n",
      "391 2020-08-01    D2      PNC705B     9  329014.48 2020-07-01\n",
      "392 2020-08-01    D2      PNC751H     9  529627.20 2020-07-01\n",
      "393 2020-08-01    D2      PNC805B    11  856372.11 2020-07-01\n",
      "394 2020-08-01    G1       Others     3   13850.94 2020-07-01\n",
      "\n",
      "[395 rows x 6 columns]\n"
     ]
    }
   ],
   "source": [
    "def admin_report_act_age():\n",
    "    df_inv = read_inv()\n",
    "\n",
    "    # Only guilty inventory\n",
    "    df_report = df_inv[df_inv[\"age\"] > 90]\n",
    "\n",
    "    # Add BU info\n",
    "    df_bu = read_bu()\n",
    "    df_report = pd.merge(df_report, df_bu, on=\"cat\", how=\"left\")\n",
    "    df_report = df_report.drop([\"cat\", \"age\"], axis=1)\n",
    "    grouped = df_report.groupby([\"month\", \"model\", \"bu\"], as_index=False)\n",
    "    df_report = grouped.sum()\n",
    "    df_inv_his = df_report\n",
    "\n",
    "    # Add digest model\n",
    "    df_digest = digest_act_age()\n",
    "    df_report = pd.merge(\n",
    "        df_report,\n",
    "        df_digest,\n",
    "        left_on=[\"month\", \"model\"],\n",
    "        right_on=[\"month\", \"model\"],\n",
    "        how=\"left\",\n",
    "    )\n",
    "    \n",
    "    grouped = df_report.groupby([\"month\", \"bu\", \"digest_model\"], as_index=False)\n",
    "    df_report = grouped.sum()\n",
    "    # df_report.to_csv('rep.csv')  # Guilty inventory with the digest model.\n",
    "    \n",
    "    # Add N-1 month column to join sales & inv\n",
    "    df_report['n-1'] = df_report['month'].map(lambda x: x - relativedelta(months=1))\n",
    "    \n",
    "    # Add N, N-1 sales data\n",
    "    \n",
    "    \n",
    "\n",
    "    print(df_report)\n",
    "    \n",
    "    # TODO: Add N-1 inv data\n",
    "\n",
    "    #print(df_inv_his)\n",
    "    #     grouped = df_report.groupby([\"month\", \"digest_model\", 'bu'], as_index=False)\n",
    "    #     df_report = grouped.sum()\n",
    "\n",
    "    # df_report.to_csv('df_rep.csv')\n",
    "    # df_sales = pd.merge(df_sales, df_digest, on=['month', 'model'], how='inner')\n",
    "\n",
    "    # Merge with inv_q on month in order to take last month inv\n",
    "\n",
    "    # df_report = pd.merge(df_report, df_)\n",
    "    # print(df_report)\n",
    "\n",
    "\n",
    "logging.debug(\"return : \\n\" + str(admin_report_act_age()))"
   ]
  }
 ],
 "metadata": {
  "kernelspec": {
   "display_name": "Python 3",
   "language": "python",
   "name": "python3"
  },
  "language_info": {
   "codemirror_mode": {
    "name": "ipython",
    "version": 3
   },
   "file_extension": ".py",
   "mimetype": "text/x-python",
   "name": "python",
   "nbconvert_exporter": "python",
   "pygments_lexer": "ipython3",
   "version": "3.8.5"
  }
 },
 "nbformat": 4,
 "nbformat_minor": 4
}
